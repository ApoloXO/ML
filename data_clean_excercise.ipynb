{
  "nbformat": 4,
  "nbformat_minor": 0,
  "metadata": {
    "colab": {
      "provenance": [],
      "authorship_tag": "ABX9TyNOGKEzIjKp5/ZfC5dFD1qq",
      "include_colab_link": true
    },
    "kernelspec": {
      "name": "python3",
      "display_name": "Python 3"
    },
    "language_info": {
      "name": "python"
    }
  },
  "cells": [
    {
      "cell_type": "markdown",
      "metadata": {
        "id": "view-in-github",
        "colab_type": "text"
      },
      "source": [
        "<a href=\"https://colab.research.google.com/github/ApoloXO/ML/blob/main/data_clean_excercise.ipynb\" target=\"_parent\"><img src=\"https://colab.research.google.com/assets/colab-badge.svg\" alt=\"Open In Colab\"/></a>"
      ]
    },
    {
      "cell_type": "code",
      "execution_count": null,
      "metadata": {
        "id": "YsL2MWAmG4oy"
      },
      "outputs": [],
      "source": [
        "import pandas as pd # python's data handling package\n",
        "import numpy as np # python's scientific computing package\n",
        "import matplotlib.pyplot as plt # python's plotting package\n",
        "\n",
        "original_data = pd.read_excel('Original_Data.xlsx')\n",
        "\n",
        "# cleaning 1 on original data\n",
        "original_data = original_data.drop('Unnamed: 0', axis=1)\n",
        "original_data = original_data.drop(index=[0,1], axis=0)\n",
        "original_data.columns = original_data.iloc[0]\n",
        "original_data = original_data.reset_index(drop=True)\n",
        "original_data = original_data[1:]\n",
        "\n",
        "# subset data deriived from original data\n",
        "data = original_data.iloc[:, np.r_[3, 16:20, 33, 36, 37, 42, 43, 45:48, 50, 53, 55, 60, 61, 65:68]]\n",
        "#data\n",
        "\n",
        "\n",
        "\n",
        "# Nan treatement\n",
        "k=original_data.iat[2182,46]\n",
        "print(k)\n",
        "original_data.iat[2182,46] = ?????\n",
        "print(original_data.iat[2182,46])\n",
        "\n",
        "k=original_data.iat[2182,47]\n",
        "print(k)\n",
        "original_data.iat[2182,47] = ?????\n",
        "print(original_data.iat[2182,47])\n",
        "\n",
        "\n",
        "\n",
        "# ?????\n",
        "cat1 = original_data['BsmtQual'].astype(\"category\")\n",
        "cat1 = cat1.cat.rename_categories({'NA': 0, 'Pr': 1, 'Fa': 2, 'TA': 3, 'Gd': 4, 'Ex': 5})\n",
        "\n",
        "# ?????\n",
        "cat1_dist = cat1.value_counts()\n",
        "cat1_dist\n",
        "bsmt_qual_index = cat1_dist.index\n",
        "plt.bar(?????, ?????)\n",
        "cat1\n",
        "\n",
        "\n",
        "\n",
        "# ?????\n",
        "cat2 = original_data['Neighborhood'].astype(\"category\")\n",
        "cat2 = pd.get_dummies(cat2)\n",
        "cat2 = 1*cat2\n",
        "cat2\n",
        "\n",
        "\n",
        "\n",
        "# redefinig data: numerical + categorical observations + target\n",
        "????? ????? ????? ????? ?????\n",
        "\n",
        "\n",
        "\n",
        "# z score normalization\n",
        "????? ????? ????? ????? ?????\n",
        "\n",
        "\n",
        "\n",
        "# csv file\n",
        "????? ????? ????? ????? ?????\n",
        "\n"
      ]
    }
  ]
}